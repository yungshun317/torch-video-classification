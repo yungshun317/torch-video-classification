{
  "cells": [
    {
      "cell_type": "code",
      "execution_count": 39,
      "id": "2db813ff",
      "metadata": {
        "id": "2db813ff"
      },
      "outputs": [],
      "source": [
        "from torchvision.io.video import read_video\n",
        "from torchvision.models.video import mvit_v2_s, MViT_V2_S_Weights\n",
        "\n",
        "vid, _, _ = read_video(\"/content/5sr0Wgmn7BU_000085_000095.mp4\", output_format=\"TCHW\")\n",
        "vid = vid[:16]  # optionally shorten duration\n",
        "\n",
        "# Step 1: Initialize model with the best available weights\n",
        "weights = MViT_V2_S_Weights.DEFAULT\n",
        "model = mvit_v2_s(weights=weights)\n",
        "model.eval()\n",
        "\n",
        "# Step 2: Initialize the inference transforms\n",
        "preprocess = weights.transforms()\n",
        "\n",
        "# Step 3: Apply inference preprocessing transforms\n",
        "batch = preprocess(vid).unsqueeze(0)"
      ]
    },
    {
      "cell_type": "code",
      "source": [
        "batch.shape"
      ],
      "metadata": {
        "colab": {
          "base_uri": "https://localhost:8080/"
        },
        "id": "JQ-egGrYCF4J",
        "outputId": "a9e6b667-4cf6-46fe-e205-c00c77220f21"
      },
      "id": "JQ-egGrYCF4J",
      "execution_count": 40,
      "outputs": [
        {
          "output_type": "execute_result",
          "data": {
            "text/plain": [
              "torch.Size([1, 3, 16, 224, 224])"
            ]
          },
          "metadata": {},
          "execution_count": 40
        }
      ]
    },
    {
      "cell_type": "code",
      "source": [
        "# Step 4: Use the model and print the predicted category\n",
        "prediction = model(batch).squeeze(0).softmax(0)\n",
        "label = prediction.argmax().item()\n",
        "score = prediction[label].item()\n",
        "category_name = weights.meta[\"categories\"][label]\n",
        "print(f\"{category_name}: {100 * score}%\")"
      ],
      "metadata": {
        "colab": {
          "base_uri": "https://localhost:8080/"
        },
        "id": "Ak6FwLcA_SDY",
        "outputId": "306e8157-a89b-4063-9f25-2152b3a30c2b"
      },
      "id": "Ak6FwLcA_SDY",
      "execution_count": 41,
      "outputs": [
        {
          "output_type": "stream",
          "name": "stdout",
          "text": [
            "wrestling: 91.39447212219238%\n"
          ]
        }
      ]
    },
    {
      "cell_type": "code",
      "source": [],
      "metadata": {
        "id": "RVVqCEBYCW2E"
      },
      "id": "RVVqCEBYCW2E",
      "execution_count": null,
      "outputs": []
    }
  ],
  "metadata": {
    "kernelspec": {
      "display_name": "Python 3 (ipykernel)",
      "language": "python",
      "name": "python3"
    },
    "language_info": {
      "codemirror_mode": {
        "name": "ipython",
        "version": 3
      },
      "file_extension": ".py",
      "mimetype": "text/x-python",
      "name": "python",
      "nbconvert_exporter": "python",
      "pygments_lexer": "ipython3",
      "version": "3.8.8"
    },
    "colab": {
      "provenance": []
    }
  },
  "nbformat": 4,
  "nbformat_minor": 5
}