{
 "cells": [
  {
   "cell_type": "code",
   "execution_count": 1,
   "id": "2db813ff",
   "metadata": {
    "id": "2db813ff"
   },
   "outputs": [
    {
     "name": "stderr",
     "output_type": "stream",
     "text": [
      "/home/yungshun/yungshun-py3/lib/python3.8/site-packages/torchvision/io/video.py:161: UserWarning: The pts_unit 'pts' gives wrong results. Please use pts_unit 'sec'.\n",
      "  warnings.warn(\"The pts_unit 'pts' gives wrong results. Please use pts_unit 'sec'.\")\n",
      "Downloading: \"https://download.pytorch.org/models/mvit_v2_s-ae3be167.pth\" to /home/yungshun/.cache/torch/hub/checkpoints/mvit_v2_s-ae3be167.pth\n",
      "100%|████████████████████████████████████████| 132M/132M [00:08<00:00, 16.6MB/s]\n"
     ]
    }
   ],
   "source": [
    "from torchvision.io.video import read_video\n",
    "from torchvision.models.video import mvit_v2_s, MViT_V2_S_Weights\n",
    "\n",
    "vid, _, _ = read_video(\"dataset/val/wrestling/5sr0Wgmn7BU_000085_000095.mp4\", output_format=\"TCHW\")\n",
    "vid = vid[:16]  # optionally shorten duration\n",
    "\n",
    "# Step 1: Initialize model with the best available weights\n",
    "weights = MViT_V2_S_Weights.DEFAULT\n",
    "model = mvit_v2_s(weights=weights)\n",
    "model.eval()\n",
    "\n",
    "# Step 2: Initialize the inference transforms\n",
    "preprocess = weights.transforms()\n",
    "\n",
    "# Step 3: Apply inference preprocessing transforms\n",
    "batch = preprocess(vid).unsqueeze(0)"
   ]
  },
  {
   "cell_type": "code",
   "execution_count": 2,
   "id": "JQ-egGrYCF4J",
   "metadata": {
    "colab": {
     "base_uri": "https://localhost:8080/"
    },
    "id": "JQ-egGrYCF4J",
    "outputId": "a9e6b667-4cf6-46fe-e205-c00c77220f21"
   },
   "outputs": [
    {
     "data": {
      "text/plain": [
       "torch.Size([1, 3, 16, 224, 224])"
      ]
     },
     "execution_count": 2,
     "metadata": {},
     "output_type": "execute_result"
    }
   ],
   "source": [
    "batch.shape"
   ]
  },
  {
   "cell_type": "code",
   "execution_count": 3,
   "id": "Ak6FwLcA_SDY",
   "metadata": {
    "colab": {
     "base_uri": "https://localhost:8080/"
    },
    "id": "Ak6FwLcA_SDY",
    "outputId": "306e8157-a89b-4063-9f25-2152b3a30c2b"
   },
   "outputs": [
    {
     "data": {
      "text/plain": [
       "tensor([1.8366e-04, 1.6695e-04, 1.0879e-04, 6.5832e-05, 1.6735e-04, 3.3791e-04,\n",
       "        1.4666e-04, 1.5181e-04, 1.3985e-04, 1.3458e-04, 9.4528e-05, 2.1959e-04,\n",
       "        1.1031e-04, 1.4101e-04, 1.9015e-04, 1.0865e-04, 1.5979e-04, 1.2496e-04,\n",
       "        2.0478e-04, 1.6411e-04, 1.5531e-04, 1.4839e-04, 1.6432e-04, 1.2638e-04,\n",
       "        1.9523e-04, 1.5940e-04, 1.1271e-04, 1.2722e-04, 2.7018e-04, 2.1047e-04,\n",
       "        2.6080e-04, 1.5833e-04, 9.6968e-05, 1.2355e-04, 2.6626e-04, 1.0022e-04,\n",
       "        1.8172e-04, 1.4483e-04, 1.3130e-04, 8.0548e-05, 2.3233e-04, 2.2879e-04,\n",
       "        1.8449e-04, 3.3502e-04, 2.2491e-04, 1.0330e-04, 1.0267e-04, 1.5010e-04,\n",
       "        1.9735e-04, 3.2568e-04, 2.8887e-04, 1.7221e-04, 1.2886e-04, 1.5380e-04,\n",
       "        1.1498e-04, 6.4975e-04, 1.3146e-04, 1.0020e-04, 1.4592e-04, 2.0867e-04,\n",
       "        1.9240e-04, 1.1163e-04, 1.3553e-04, 2.1101e-04, 1.4029e-04, 1.0014e-04,\n",
       "        1.2247e-04, 1.1590e-04, 1.5785e-04, 2.0098e-04, 1.5987e-04, 1.6154e-04,\n",
       "        8.5722e-05, 1.1510e-04, 1.1226e-04, 5.2272e-04, 7.8158e-05, 1.1566e-04,\n",
       "        1.9834e-04, 1.6474e-04, 1.5928e-04, 1.7098e-04, 2.1410e-04, 1.9304e-04,\n",
       "        4.9547e-04, 1.0747e-04, 4.3687e-04, 1.2456e-04, 2.0726e-04, 1.3768e-04,\n",
       "        1.6431e-04, 2.0203e-04, 1.5859e-04, 3.4051e-04, 9.2464e-03, 9.3568e-05,\n",
       "        1.5849e-04, 1.5347e-04, 1.2708e-04, 3.8412e-04, 1.3861e-04, 1.0807e-04,\n",
       "        1.1454e-04, 1.6587e-04, 1.3697e-04, 5.1561e-04, 1.4372e-04, 3.1961e-04,\n",
       "        1.4323e-04, 1.6424e-04, 1.0493e-04, 1.0192e-04, 1.5900e-04, 1.1388e-04,\n",
       "        1.3661e-04, 1.5669e-04, 1.8245e-04, 1.3838e-04, 1.4771e-04, 4.9188e-05,\n",
       "        6.6591e-05, 1.4483e-04, 2.1038e-04, 1.9204e-04, 1.2783e-04, 2.0580e-04,\n",
       "        1.8040e-04, 1.3563e-04, 2.4257e-04, 1.1901e-04, 2.2218e-04, 1.8546e-04,\n",
       "        1.7288e-04, 1.9335e-04, 9.7705e-05, 1.0386e-04, 1.3559e-04, 1.0722e-04,\n",
       "        1.6342e-04, 8.9552e-05, 2.6815e-04, 1.0191e-04, 2.5234e-04, 1.9525e-04,\n",
       "        1.1593e-04, 1.5374e-04, 1.3045e-04, 1.8582e-04, 1.5514e-04, 1.0375e-04,\n",
       "        7.0332e-04, 3.4948e-04, 7.2894e-04, 1.7987e-04, 2.3502e-04, 8.7404e-05,\n",
       "        2.0376e-04, 1.0588e-04, 2.2746e-04, 2.7193e-04, 9.6553e-05, 2.3610e-04,\n",
       "        2.6558e-04, 1.4668e-04, 2.3376e-04, 1.6912e-04, 1.1473e-04, 1.8528e-04,\n",
       "        1.5395e-04, 1.3906e-04, 1.5908e-04, 1.7788e-04, 1.6052e-04, 1.4642e-04,\n",
       "        2.7916e-04, 2.7554e-04, 1.4621e-04, 1.8187e-04, 1.6934e-04, 1.2788e-04,\n",
       "        1.4818e-04, 1.0547e-04, 1.5509e-04, 1.2557e-04, 1.5612e-04, 1.7596e-04,\n",
       "        1.6415e-04, 1.7454e-04, 2.0763e-04, 1.1772e-04, 1.8541e-04, 1.7402e-04,\n",
       "        3.1399e-04, 2.3990e-04, 1.3265e-04, 8.6894e-05, 1.1625e-04, 1.7803e-04,\n",
       "        1.3280e-04, 1.7488e-04, 1.4709e-04, 1.5916e-04, 1.1592e-04, 1.2292e-04,\n",
       "        1.4042e-04, 1.8600e-04, 2.2937e-04, 7.3561e-05, 3.9166e-04, 2.8175e-04,\n",
       "        1.0688e-04, 1.1822e-04, 1.2932e-04, 1.0779e-04, 1.5560e-04, 1.0376e-04,\n",
       "        9.3339e-05, 4.0436e-04, 1.8925e-04, 2.6505e-04, 1.1591e-03, 1.5896e-04,\n",
       "        1.5480e-04, 2.3195e-04, 1.5174e-04, 2.1883e-04, 1.9009e-04, 1.0634e-04,\n",
       "        1.3042e-04, 2.0135e-04, 1.1278e-04, 1.7868e-04, 3.1582e-04, 1.7657e-04,\n",
       "        2.1702e-04, 2.6730e-04, 1.4125e-04, 2.4543e-04, 1.1390e-04, 1.2488e-04,\n",
       "        2.2947e-04, 1.9559e-04, 1.1841e-04, 2.1112e-04, 1.7019e-04, 1.5291e-04,\n",
       "        2.4946e-04, 3.1627e-04, 1.9963e-04, 2.1935e-04, 1.9322e-04, 1.0488e-03,\n",
       "        1.7890e-04, 1.9667e-04, 1.3873e-04, 1.1141e-04, 1.8131e-04, 9.5678e-05,\n",
       "        7.8728e-05, 5.5875e-04, 5.8980e-05, 1.4656e-04, 1.7917e-04, 1.4655e-04,\n",
       "        2.1847e-04, 9.3259e-05, 1.7121e-04, 8.0692e-05, 2.2038e-04, 2.4063e-04,\n",
       "        1.6154e-04, 1.0512e-04, 1.4981e-04, 2.0516e-04, 1.2347e-04, 2.6943e-04,\n",
       "        1.4697e-04, 2.7760e-04, 1.7874e-04, 1.2443e-04, 8.6038e-04, 1.2724e-04,\n",
       "        1.7022e-04, 4.9022e-04, 1.1207e-04, 1.4571e-04, 2.0140e-04, 1.3432e-04,\n",
       "        2.3278e-04, 1.1692e-04, 1.2274e-04, 1.6292e-04, 2.2299e-04, 1.2892e-04,\n",
       "        2.1186e-04, 1.5785e-04, 2.9896e-04, 1.2725e-04, 6.2633e-04, 1.8233e-04,\n",
       "        2.0343e-04, 1.7014e-04, 2.7602e-04, 1.5635e-04, 3.1151e-04, 1.0364e-04,\n",
       "        3.1888e-04, 2.1938e-04, 3.1422e-04, 1.2747e-04, 9.3688e-05, 3.8143e-04,\n",
       "        1.5537e-04, 2.8711e-04, 1.8027e-04, 1.5290e-04, 1.8502e-04, 1.1742e-04,\n",
       "        1.0394e-04, 1.5887e-04, 1.4549e-04, 1.9179e-04, 3.3953e-04, 2.7847e-04,\n",
       "        1.6511e-04, 5.2931e-04, 2.0550e-04, 1.5042e-04, 1.3854e-04, 1.8554e-04,\n",
       "        1.4840e-04, 1.0185e-04, 1.5906e-04, 1.7019e-04, 1.9516e-04, 1.4966e-04,\n",
       "        1.7223e-04, 1.4936e-04, 8.9078e-05, 1.7096e-04, 1.5452e-04, 1.1482e-04,\n",
       "        2.7275e-04, 8.6813e-05, 1.8692e-04, 2.3069e-04, 5.1820e-04, 1.2726e-04,\n",
       "        2.4570e-03, 5.3419e-04, 1.7298e-04, 1.2662e-04, 8.3275e-05, 1.4090e-04,\n",
       "        1.6047e-04, 1.3870e-04, 2.3724e-04, 1.0238e-04, 8.9691e-05, 2.0651e-04,\n",
       "        2.4011e-04, 4.2506e-04, 1.1628e-04, 1.5785e-04, 1.6898e-04, 1.1219e-04,\n",
       "        1.3292e-04, 1.5365e-04, 1.3216e-04, 1.5094e-04, 1.3623e-04, 1.8727e-04,\n",
       "        1.0133e-04, 1.8687e-04, 1.2719e-04, 1.0664e-04, 1.4353e-04, 8.3942e-05,\n",
       "        1.8131e-04, 1.4730e-04, 1.0458e-04, 1.2411e-04, 1.9903e-04, 1.2689e-04,\n",
       "        2.0976e-04, 1.2903e-04, 1.2479e-04, 1.2605e-04, 1.3831e-04, 1.1189e-04,\n",
       "        1.5071e-04, 1.5953e-04, 1.4156e-04, 1.8512e-04, 2.2244e-04, 9.1395e-01,\n",
       "        1.5514e-04, 8.6763e-05, 1.3371e-04, 2.2890e-04],\n",
       "       grad_fn=<SoftmaxBackward0>)"
      ]
     },
     "execution_count": 3,
     "metadata": {},
     "output_type": "execute_result"
    }
   ],
   "source": [
    "# Step 4: Use the model and print the predicted category\n",
    "prediction = model(batch).squeeze(0).softmax(0)\n",
    "prediction"
   ]
  },
  {
   "cell_type": "code",
   "execution_count": 4,
   "id": "RVVqCEBYCW2E",
   "metadata": {
    "id": "RVVqCEBYCW2E"
   },
   "outputs": [
    {
     "data": {
      "text/plain": [
       "395"
      ]
     },
     "execution_count": 4,
     "metadata": {},
     "output_type": "execute_result"
    }
   ],
   "source": [
    "label = prediction.argmax().item()\n",
    "label"
   ]
  },
  {
   "cell_type": "code",
   "execution_count": 5,
   "id": "f4461d20",
   "metadata": {},
   "outputs": [
    {
     "data": {
      "text/plain": [
       "0.9139450192451477"
      ]
     },
     "execution_count": 5,
     "metadata": {},
     "output_type": "execute_result"
    }
   ],
   "source": [
    "score = prediction[label].item()\n",
    "score"
   ]
  },
  {
   "cell_type": "code",
   "execution_count": 6,
   "id": "804a5957",
   "metadata": {},
   "outputs": [
    {
     "data": {
      "text/plain": [
       "'wrestling'"
      ]
     },
     "execution_count": 6,
     "metadata": {},
     "output_type": "execute_result"
    }
   ],
   "source": [
    "category_name = weights.meta[\"categories\"][label]\n",
    "category_name"
   ]
  },
  {
   "cell_type": "code",
   "execution_count": 7,
   "id": "4e608e4e",
   "metadata": {},
   "outputs": [
    {
     "name": "stdout",
     "output_type": "stream",
     "text": [
      "wrestling: 91.39450192451477%\n"
     ]
    }
   ],
   "source": [
    "print(f\"{category_name}: {100 * score}%\")"
   ]
  },
  {
   "cell_type": "code",
   "execution_count": 10,
   "id": "bdd2b6bd",
   "metadata": {},
   "outputs": [
    {
     "name": "stdout",
     "output_type": "stream",
     "text": [
      "['abseiling', 'air drumming', 'answering questions', 'applauding', 'applying cream', 'archery', 'arm wrestling', 'arranging flowers', 'assembling computer', 'auctioning', 'baby waking up', 'baking cookies', 'balloon blowing', 'bandaging', 'barbequing', 'bartending', 'beatboxing', 'bee keeping', 'belly dancing', 'bench pressing', 'bending back', 'bending metal', 'biking through snow', 'blasting sand', 'blowing glass', 'blowing leaves', 'blowing nose', 'blowing out candles', 'bobsledding', 'bookbinding', 'bouncing on trampoline', 'bowling', 'braiding hair', 'breading or breadcrumbing', 'breakdancing', 'brush painting', 'brushing hair', 'brushing teeth', 'building cabinet', 'building shed', 'bungee jumping', 'busking', 'canoeing or kayaking', 'capoeira', 'carrying baby', 'cartwheeling', 'carving pumpkin', 'catching fish', 'catching or throwing baseball', 'catching or throwing frisbee', 'catching or throwing softball', 'celebrating', 'changing oil', 'changing wheel', 'checking tires', 'cheerleading', 'chopping wood', 'clapping', 'clay pottery making', 'clean and jerk', 'cleaning floor', 'cleaning gutters', 'cleaning pool', 'cleaning shoes', 'cleaning toilet', 'cleaning windows', 'climbing a rope', 'climbing ladder', 'climbing tree', 'contact juggling', 'cooking chicken', 'cooking egg', 'cooking on campfire', 'cooking sausages', 'counting money', 'country line dancing', 'cracking neck', 'crawling baby', 'crossing river', 'crying', 'curling hair', 'cutting nails', 'cutting pineapple', 'cutting watermelon', 'dancing ballet', 'dancing charleston', 'dancing gangnam style', 'dancing macarena', 'deadlifting', 'decorating the christmas tree', 'digging', 'dining', 'disc golfing', 'diving cliff', 'dodgeball', 'doing aerobics', 'doing laundry', 'doing nails', 'drawing', 'dribbling basketball', 'drinking', 'drinking beer', 'drinking shots', 'driving car', 'driving tractor', 'drop kicking', 'drumming fingers', 'dunking basketball', 'dying hair', 'eating burger', 'eating cake', 'eating carrots', 'eating chips', 'eating doughnuts', 'eating hotdog', 'eating ice cream', 'eating spaghetti', 'eating watermelon', 'egg hunting', 'exercising arm', 'exercising with an exercise ball', 'extinguishing fire', 'faceplanting', 'feeding birds', 'feeding fish', 'feeding goats', 'filling eyebrows', 'finger snapping', 'fixing hair', 'flipping pancake', 'flying kite', 'folding clothes', 'folding napkins', 'folding paper', 'front raises', 'frying vegetables', 'garbage collecting', 'gargling', 'getting a haircut', 'getting a tattoo', 'giving or receiving award', 'golf chipping', 'golf driving', 'golf putting', 'grinding meat', 'grooming dog', 'grooming horse', 'gymnastics tumbling', 'hammer throw', 'headbanging', 'headbutting', 'high jump', 'high kick', 'hitting baseball', 'hockey stop', 'holding snake', 'hopscotch', 'hoverboarding', 'hugging', 'hula hooping', 'hurdling', 'hurling (sport)', 'ice climbing', 'ice fishing', 'ice skating', 'ironing', 'javelin throw', 'jetskiing', 'jogging', 'juggling balls', 'juggling fire', 'juggling soccer ball', 'jumping into pool', 'jumpstyle dancing', 'kicking field goal', 'kicking soccer ball', 'kissing', 'kitesurfing', 'knitting', 'krumping', 'laughing', 'laying bricks', 'long jump', 'lunge', 'making a cake', 'making a sandwich', 'making bed', 'making jewelry', 'making pizza', 'making snowman', 'making sushi', 'making tea', 'marching', 'massaging back', 'massaging feet', 'massaging legs', \"massaging person's head\", 'milking cow', 'mopping floor', 'motorcycling', 'moving furniture', 'mowing lawn', 'news anchoring', 'opening bottle', 'opening present', 'paragliding', 'parasailing', 'parkour', 'passing American football (in game)', 'passing American football (not in game)', 'peeling apples', 'peeling potatoes', 'petting animal (not cat)', 'petting cat', 'picking fruit', 'planting trees', 'plastering', 'playing accordion', 'playing badminton', 'playing bagpipes', 'playing basketball', 'playing bass guitar', 'playing cards', 'playing cello', 'playing chess', 'playing clarinet', 'playing controller', 'playing cricket', 'playing cymbals', 'playing didgeridoo', 'playing drums', 'playing flute', 'playing guitar', 'playing harmonica', 'playing harp', 'playing ice hockey', 'playing keyboard', 'playing kickball', 'playing monopoly', 'playing organ', 'playing paintball', 'playing piano', 'playing poker', 'playing recorder', 'playing saxophone', 'playing squash or racquetball', 'playing tennis', 'playing trombone', 'playing trumpet', 'playing ukulele', 'playing violin', 'playing volleyball', 'playing xylophone', 'pole vault', 'presenting weather forecast', 'pull ups', 'pumping fist', 'pumping gas', 'punching bag', 'punching person (boxing)', 'push up', 'pushing car', 'pushing cart', 'pushing wheelchair', 'reading book', 'reading newspaper', 'recording music', 'riding a bike', 'riding camel', 'riding elephant', 'riding mechanical bull', 'riding mountain bike', 'riding mule', 'riding or walking with horse', 'riding scooter', 'riding unicycle', 'ripping paper', 'robot dancing', 'rock climbing', 'rock scissors paper', 'roller skating', 'running on treadmill', 'sailing', 'salsa dancing', 'sanding floor', 'scrambling eggs', 'scuba diving', 'setting table', 'shaking hands', 'shaking head', 'sharpening knives', 'sharpening pencil', 'shaving head', 'shaving legs', 'shearing sheep', 'shining shoes', 'shooting basketball', 'shooting goal (soccer)', 'shot put', 'shoveling snow', 'shredding paper', 'shuffling cards', 'side kick', 'sign language interpreting', 'singing', 'situp', 'skateboarding', 'ski jumping', 'skiing (not slalom or crosscountry)', 'skiing crosscountry', 'skiing slalom', 'skipping rope', 'skydiving', 'slacklining', 'slapping', 'sled dog racing', 'smoking', 'smoking hookah', 'snatch weight lifting', 'sneezing', 'sniffing', 'snorkeling', 'snowboarding', 'snowkiting', 'snowmobiling', 'somersaulting', 'spinning poi', 'spray painting', 'spraying', 'springboard diving', 'squat', 'sticking tongue out', 'stomping grapes', 'stretching arm', 'stretching leg', 'strumming guitar', 'surfing crowd', 'surfing water', 'sweeping floor', 'swimming backstroke', 'swimming breast stroke', 'swimming butterfly stroke', 'swing dancing', 'swinging legs', 'swinging on something', 'sword fighting', 'tai chi', 'taking a shower', 'tango dancing', 'tap dancing', 'tapping guitar', 'tapping pen', 'tasting beer', 'tasting food', 'testifying', 'texting', 'throwing axe', 'throwing ball', 'throwing discus', 'tickling', 'tobogganing', 'tossing coin', 'tossing salad', 'training dog', 'trapezing', 'trimming or shaving beard', 'trimming trees', 'triple jump', 'tying bow tie', 'tying knot (not on a tie)', 'tying tie', 'unboxing', 'unloading truck', 'using computer', 'using remote controller (not gaming)', 'using segway', 'vault', 'waiting in line', 'walking the dog', 'washing dishes', 'washing feet', 'washing hair', 'washing hands', 'water skiing', 'water sliding', 'watering plants', 'waxing back', 'waxing chest', 'waxing eyebrows', 'waxing legs', 'weaving basket', 'welding', 'whistling', 'windsurfing', 'wrapping present', 'wrestling', 'writing', 'yawning', 'yoga', 'zumba']\n"
     ]
    }
   ],
   "source": [
    "print(weights.meta[\"categories\"])"
   ]
  },
  {
   "cell_type": "code",
   "execution_count": 12,
   "id": "5e080465",
   "metadata": {},
   "outputs": [],
   "source": [
    "violence = [\n",
    "    \"archery\", \n",
    "    \"arm wrestling\", \n",
    "    \"bending metal\", \n",
    "    \"blasting sand\", \n",
    "    \"capoeira\", \n",
    "    \"catching or throwing baseball\", \n",
    "    \"catching or throwing frisbee\", \n",
    "    \"catching or throwing softball\",\n",
    "    \"chopping wood\",\n",
    "    \"cracking neck\",\n",
    "    \"cutting pineapple\", \n",
    "    \"cutting watermelon\",\n",
    "    \"drop kicking\",\n",
    "    \"faceplanting\",\n",
    "    \"hammer throw\",\n",
    "    \"headbutting\",\n",
    "    \"high kick\",\n",
    "    \"hitting baseball\",\n",
    "    \"javelin throw\",\n",
    "    \"kicking field goal\",\n",
    "    \"kicking soccer ball\",\n",
    "    \"pumping fist\",\n",
    "    \"punching bag\",\n",
    "    \"punching person (boxing)\",\n",
    "    \"slapping\",\n",
    "    \"sword fighting\",\n",
    "    \"tai chi\",\n",
    "    \"throwing axe\",\n",
    "    \"throwing ball\",\n",
    "    \"wrestling\"\n",
    "]"
   ]
  },
  {
   "cell_type": "code",
   "execution_count": 14,
   "id": "61806772",
   "metadata": {},
   "outputs": [
    {
     "data": {
      "text/plain": [
       "[5,\n",
       " 6,\n",
       " 21,\n",
       " 23,\n",
       " 43,\n",
       " 48,\n",
       " 49,\n",
       " 50,\n",
       " 56,\n",
       " 76,\n",
       " 82,\n",
       " 83,\n",
       " 105,\n",
       " 122,\n",
       " 148,\n",
       " 150,\n",
       " 152,\n",
       " 153,\n",
       " 166,\n",
       " 174,\n",
       " 175,\n",
       " 256,\n",
       " 258,\n",
       " 259,\n",
       " 314,\n",
       " 345,\n",
       " 346,\n",
       " 356,\n",
       " 357,\n",
       " 395]"
      ]
     },
     "execution_count": 14,
     "metadata": {},
     "output_type": "execute_result"
    }
   ],
   "source": [
    "violence_idx = [i for i, x in enumerate(weights.meta[\"categories\"]) if x in violence]\n",
    "violence_idx"
   ]
  },
  {
   "cell_type": "code",
   "execution_count": 9,
   "id": "80d41587",
   "metadata": {},
   "outputs": [
    {
     "data": {
      "text/plain": [
       "'wrestling'"
      ]
     },
     "execution_count": 9,
     "metadata": {},
     "output_type": "execute_result"
    }
   ],
   "source": [
    "weights.meta[\"categories\"][395]"
   ]
  },
  {
   "cell_type": "code",
   "execution_count": 16,
   "id": "cb567e40",
   "metadata": {},
   "outputs": [
    {
     "name": "stdout",
     "output_type": "stream",
     "text": [
      "Violence: 91.39450192451477%\n"
     ]
    }
   ],
   "source": [
    "def violence_recognition(violence_idx, prediction):\n",
    "    label = prediction.argmax().item()\n",
    "    score = prediction[label].item()\n",
    "    if label in violence_idx:\n",
    "        print(f\"Violence: {100 * score}%\")\n",
    "    else:\n",
    "        print(f\"Normal: {100 * score}%\")\n",
    "        \n",
    "violence_recognition(violence_idx, prediction)"
   ]
  },
  {
   "cell_type": "code",
   "execution_count": null,
   "id": "d572485e",
   "metadata": {},
   "outputs": [],
   "source": []
  }
 ],
 "metadata": {
  "colab": {
   "provenance": []
  },
  "kernelspec": {
   "display_name": "Python 3 (ipykernel)",
   "language": "python",
   "name": "python3"
  },
  "language_info": {
   "codemirror_mode": {
    "name": "ipython",
    "version": 3
   },
   "file_extension": ".py",
   "mimetype": "text/x-python",
   "name": "python",
   "nbconvert_exporter": "python",
   "pygments_lexer": "ipython3",
   "version": "3.8.8"
  }
 },
 "nbformat": 4,
 "nbformat_minor": 5
}
