{
  "cells": [
    {
      "cell_type": "code",
      "source": [
        "from google.colab import drive\n",
        "\n",
        "drive.mount('/content/drive')"
      ],
      "metadata": {
        "colab": {
          "base_uri": "https://localhost:8080/"
        },
        "id": "LtTt5Oq2w90E",
        "outputId": "67fda563-ce30-422c-e3bc-0f8207316887"
      },
      "id": "LtTt5Oq2w90E",
      "execution_count": 2,
      "outputs": [
        {
          "output_type": "stream",
          "name": "stdout",
          "text": [
            "Mounted at /content/drive\n"
          ]
        }
      ]
    },
    {
      "cell_type": "code",
      "execution_count": 3,
      "id": "0dbe05c3",
      "metadata": {
        "id": "0dbe05c3"
      },
      "outputs": [],
      "source": [
        "from moviepy.video.io.ffmpeg_tools import ffmpeg_extract_subclip"
      ]
    },
    {
      "cell_type": "code",
      "source": [
        "start_time = 22\n",
        "end_time = 32\n",
        "\n",
        "ffmpeg_extract_subclip(\"/content/drive/MyDrive/torch-video-classification/Assault003_x264.mp4\", start_time, end_time, targetname=\"Assault003_x264_subclip.mp4\")"
      ],
      "metadata": {
        "colab": {
          "base_uri": "https://localhost:8080/"
        },
        "id": "BS1q_ga9xta0",
        "outputId": "445e739d-b02a-4517-c7df-bf16d1c3325a"
      },
      "id": "BS1q_ga9xta0",
      "execution_count": 6,
      "outputs": [
        {
          "output_type": "stream",
          "name": "stdout",
          "text": [
            "Moviepy - Running:\n",
            ">>> \"+ \" \".join(cmd)\n",
            "Moviepy - Command successful\n"
          ]
        }
      ]
    },
    {
      "cell_type": "code",
      "source": [],
      "metadata": {
        "id": "PfbtAlqOy-OZ"
      },
      "id": "PfbtAlqOy-OZ",
      "execution_count": null,
      "outputs": []
    }
  ],
  "metadata": {
    "kernelspec": {
      "display_name": "Python 3",
      "name": "python3"
    },
    "language_info": {
      "codemirror_mode": {
        "name": "ipython",
        "version": 3
      },
      "file_extension": ".py",
      "mimetype": "text/x-python",
      "name": "python",
      "nbconvert_exporter": "python",
      "pygments_lexer": "ipython3",
      "version": "3.8.8"
    },
    "colab": {
      "provenance": []
    }
  },
  "nbformat": 4,
  "nbformat_minor": 5
}