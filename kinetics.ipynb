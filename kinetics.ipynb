{
 "cells": [
  {
   "cell_type": "code",
   "execution_count": 1,
   "id": "oPzVlcRRt71L",
   "metadata": {
    "colab": {
     "base_uri": "https://localhost:8080/"
    },
    "id": "oPzVlcRRt71L",
    "outputId": "82c1dbab-b725-41e2-8c10-2b5ee94df8c8"
   },
   "outputs": [
    {
     "name": "stdout",
     "output_type": "stream",
     "text": [
      "Collecting av\n",
      "  Downloading av-12.0.0-cp38-cp38-manylinux_2_17_x86_64.manylinux2014_x86_64.whl (34.0 MB)\n",
      "\u001b[2K     \u001b[38;2;114;156;31m━━━━━━━━━━━━━━━━━━━━━━━━━━━━━━━━━━━━━━━━\u001b[0m \u001b[32m34.0/34.0 MB\u001b[0m \u001b[31m10.4 MB/s\u001b[0m eta \u001b[36m0:00:00\u001b[0mm eta \u001b[36m0:00:01\u001b[0m[36m0:00:01\u001b[0m\n",
      "\u001b[?25hInstalling collected packages: av\n",
      "Successfully installed av-12.0.0\n",
      "\n",
      "\u001b[1m[\u001b[0m\u001b[34;49mnotice\u001b[0m\u001b[1;39;49m]\u001b[0m\u001b[39;49m A new release of pip available: \u001b[0m\u001b[31;49m22.3.1\u001b[0m\u001b[39;49m -> \u001b[0m\u001b[32;49m24.0\u001b[0m\n",
      "\u001b[1m[\u001b[0m\u001b[34;49mnotice\u001b[0m\u001b[1;39;49m]\u001b[0m\u001b[39;49m To update, run: \u001b[0m\u001b[32;49mpip install --upgrade pip\u001b[0m\n"
     ]
    }
   ],
   "source": [
    "# `torchvision` requires\n",
    "!pip install av"
   ]
  },
  {
   "cell_type": "code",
   "execution_count": 2,
   "id": "7ea396a6",
   "metadata": {
    "id": "7ea396a6"
   },
   "outputs": [],
   "source": [
    "# Import PyTorch\n",
    "import torch\n",
    "from torch import nn\n",
    "\n",
    "# Import `torchvision`\n",
    "import torchvision\n",
    "from torchvision import datasets\n",
    "\n",
    "import os\n",
    "from timeit import default_timer as timer"
   ]
  },
  {
   "cell_type": "code",
   "execution_count": 3,
   "id": "nkAtOGhYeNws",
   "metadata": {
    "colab": {
     "base_uri": "https://localhost:8080/"
    },
    "id": "nkAtOGhYeNws",
    "outputId": "59a9c83b-81a0-47c1-d752-b94a6010a6e2"
   },
   "outputs": [
    {
     "name": "stdout",
     "output_type": "stream",
     "text": [
      "2.2.1+cu121\n",
      "0.17.1+cu121\n"
     ]
    }
   ],
   "source": [
    "print (torch.__version__)\n",
    "print (torchvision.__version__)"
   ]
  },
  {
   "cell_type": "code",
   "execution_count": 8,
   "id": "57956718",
   "metadata": {},
   "outputs": [
    {
     "name": "stdout",
     "output_type": "stream",
     "text": [
      "Collecting ffmpeg-python\n",
      "  Downloading ffmpeg_python-0.2.0-py3-none-any.whl (25 kB)\n",
      "Collecting future\n",
      "  Downloading future-1.0.0-py3-none-any.whl (491 kB)\n",
      "\u001b[2K     \u001b[38;2;114;156;31m━━━━━━━━━━━━━━━━━━━━━━━━━━━━━━━━━━━━━━━\u001b[0m \u001b[32m491.3/491.3 kB\u001b[0m \u001b[31m1.7 MB/s\u001b[0m eta \u001b[36m0:00:00\u001b[0m[31m1.7 MB/s\u001b[0m eta \u001b[36m0:00:01\u001b[0m\n",
      "\u001b[?25hInstalling collected packages: future, ffmpeg-python\n",
      "Successfully installed ffmpeg-python-0.2.0 future-1.0.0\n",
      "\n",
      "\u001b[1m[\u001b[0m\u001b[34;49mnotice\u001b[0m\u001b[1;39;49m]\u001b[0m\u001b[39;49m A new release of pip available: \u001b[0m\u001b[31;49m22.3.1\u001b[0m\u001b[39;49m -> \u001b[0m\u001b[32;49m24.0\u001b[0m\n",
      "\u001b[1m[\u001b[0m\u001b[34;49mnotice\u001b[0m\u001b[1;39;49m]\u001b[0m\u001b[39;49m To update, run: \u001b[0m\u001b[32;49mpip install --upgrade pip\u001b[0m\n"
     ]
    }
   ],
   "source": [
    "!pip install ffmpeg-python"
   ]
  },
  {
   "cell_type": "markdown",
   "id": "0e22501e",
   "metadata": {
    "id": "0e22501e"
   },
   "source": [
    "## Kinetics"
   ]
  },
  {
   "cell_type": "code",
   "execution_count": 3,
   "id": "l-zNIUjlT-Uo",
   "metadata": {
    "colab": {
     "base_uri": "https://localhost:8080/"
    },
    "id": "l-zNIUjlT-Uo",
    "outputId": "e5f9098c-af72-46b6-e948-35e1310b4247"
   },
   "outputs": [
    {
     "name": "stdout",
     "output_type": "stream",
     "text": [
      "rm: cannot remove 'data': No such file or directory\n"
     ]
    }
   ],
   "source": [
    "# !rm -r data"
   ]
  },
  {
   "cell_type": "code",
   "execution_count": 13,
   "id": "4c295f72",
   "metadata": {
    "colab": {
     "base_uri": "https://localhost:8080/"
    },
    "id": "4c295f72",
    "outputId": "253574fe-0fc8-40cf-aef4-05c794d86391"
   },
   "outputs": [
    {
     "name": "stdout",
     "output_type": "stream",
     "text": [
      "Downloading https://s3.amazonaws.com/kinetics/400/val/k400_val_path.txt to data/files/k400_val_path.txt\n"
     ]
    },
    {
     "name": "stderr",
     "output_type": "stream",
     "text": [
      "100%|███████████████████████████████████| 1130/1130 [00:00<00:00, 375232.64it/s]\n"
     ]
    },
    {
     "name": "stdout",
     "output_type": "stream",
     "text": [
      "Downloading https://s3.amazonaws.com/kinetics/400/val/part_0.tar.gz to data/tars/part_0.tar.gz\n"
     ]
    },
    {
     "name": "stderr",
     "output_type": "stream",
     "text": [
      "100%|██████████████████████| 1546665596/1546665596 [05:01<00:00, 5127132.04it/s]\n"
     ]
    },
    {
     "name": "stdout",
     "output_type": "stream",
     "text": [
      "Extracting data/tars/part_0.tar.gz to data/val\n",
      "Downloading https://s3.amazonaws.com/kinetics/400/val/part_1.tar.gz to data/tars/part_1.tar.gz\n"
     ]
    },
    {
     "name": "stderr",
     "output_type": "stream",
     "text": [
      "100%|█████████████████████| 1577976961/1577976961 [1:34:50<00:00, 277288.82it/s]\n"
     ]
    },
    {
     "name": "stdout",
     "output_type": "stream",
     "text": [
      "Extracting data/tars/part_1.tar.gz to data/val\n",
      "Downloading https://s3.amazonaws.com/kinetics/400/val/part_2.tar.gz to data/tars/part_2.tar.gz\n"
     ]
    },
    {
     "name": "stderr",
     "output_type": "stream",
     "text": [
      "100%|██████████████████████| 1564443902/1564443902 [07:37<00:00, 3418132.49it/s]\n"
     ]
    },
    {
     "name": "stdout",
     "output_type": "stream",
     "text": [
      "Extracting data/tars/part_2.tar.gz to data/val\n",
      "Downloading https://s3.amazonaws.com/kinetics/400/val/part_3.tar.gz to data/tars/part_3.tar.gz\n"
     ]
    },
    {
     "name": "stderr",
     "output_type": "stream",
     "text": [
      "100%|█████████████████████| 1476180406/1476180406 [2:11:54<00:00, 186514.39it/s]\n"
     ]
    },
    {
     "name": "stdout",
     "output_type": "stream",
     "text": [
      "Extracting data/tars/part_3.tar.gz to data/val\n",
      "Downloading https://s3.amazonaws.com/kinetics/400/val/part_4.tar.gz to data/tars/part_4.tar.gz\n"
     ]
    },
    {
     "name": "stderr",
     "output_type": "stream",
     "text": [
      "100%|█████████████████████| 1602310844/1602310844 [1:23:36<00:00, 319418.89it/s]\n"
     ]
    },
    {
     "name": "stdout",
     "output_type": "stream",
     "text": [
      "Extracting data/tars/part_4.tar.gz to data/val\n",
      "Downloading https://s3.amazonaws.com/kinetics/400/val/part_5.tar.gz to data/tars/part_5.tar.gz\n"
     ]
    },
    {
     "name": "stderr",
     "output_type": "stream",
     "text": [
      "100%|███████████████████████| 1526745719/1526745719 [43:28<00:00, 585362.46it/s]\n"
     ]
    },
    {
     "name": "stdout",
     "output_type": "stream",
     "text": [
      "Extracting data/tars/part_5.tar.gz to data/val\n",
      "Downloading https://s3.amazonaws.com/kinetics/400/val/part_6.tar.gz to data/tars/part_6.tar.gz\n"
     ]
    },
    {
     "name": "stderr",
     "output_type": "stream",
     "text": [
      "100%|███████████████████████| 1466433224/1466433224 [36:22<00:00, 671893.43it/s]\n"
     ]
    },
    {
     "name": "stdout",
     "output_type": "stream",
     "text": [
      "Extracting data/tars/part_6.tar.gz to data/val\n",
      "Downloading https://s3.amazonaws.com/kinetics/400/val/part_7.tar.gz to data/tars/part_7.tar.gz\n"
     ]
    },
    {
     "name": "stderr",
     "output_type": "stream",
     "text": [
      "100%|██████████████████████| 1584117306/1584117306 [05:33<00:00, 4749322.50it/s]\n"
     ]
    },
    {
     "name": "stdout",
     "output_type": "stream",
     "text": [
      "Extracting data/tars/part_7.tar.gz to data/val\n",
      "Downloading https://s3.amazonaws.com/kinetics/400/val/part_8.tar.gz to data/tars/part_8.tar.gz\n"
     ]
    },
    {
     "name": "stderr",
     "output_type": "stream",
     "text": [
      "100%|██████████████████████| 1617834308/1617834308 [18:55<00:00, 1425390.25it/s]\n"
     ]
    },
    {
     "name": "stdout",
     "output_type": "stream",
     "text": [
      "Extracting data/tars/part_8.tar.gz to data/val\n",
      "Downloading https://s3.amazonaws.com/kinetics/400/val/part_9.tar.gz to data/tars/part_9.tar.gz\n"
     ]
    },
    {
     "name": "stderr",
     "output_type": "stream",
     "text": [
      "100%|██████████████████████| 1527227822/1527227822 [06:07<00:00, 4158629.16it/s]\n"
     ]
    },
    {
     "name": "stdout",
     "output_type": "stream",
     "text": [
      "Extracting data/tars/part_9.tar.gz to data/val\n",
      "Downloading https://s3.amazonaws.com/kinetics/400/val/part_10.tar.gz to data/tars/part_10.tar.gz\n"
     ]
    },
    {
     "name": "stderr",
     "output_type": "stream",
     "text": [
      "100%|██████████████████████| 1475265722/1475265722 [10:53<00:00, 2259091.23it/s]\n"
     ]
    },
    {
     "name": "stdout",
     "output_type": "stream",
     "text": [
      "Extracting data/tars/part_10.tar.gz to data/val\n",
      "Downloading https://s3.amazonaws.com/kinetics/400/val/part_11.tar.gz to data/tars/part_11.tar.gz\n"
     ]
    },
    {
     "name": "stderr",
     "output_type": "stream",
     "text": [
      "100%|██████████████████████| 1502494589/1502494589 [05:17<00:00, 4727551.30it/s]\n"
     ]
    },
    {
     "name": "stdout",
     "output_type": "stream",
     "text": [
      "Extracting data/tars/part_11.tar.gz to data/val\n",
      "Downloading https://s3.amazonaws.com/kinetics/400/val/part_12.tar.gz to data/tars/part_12.tar.gz\n"
     ]
    },
    {
     "name": "stderr",
     "output_type": "stream",
     "text": [
      "100%|██████████████████████| 1491709203/1491709203 [13:35<00:00, 1828773.78it/s]\n"
     ]
    },
    {
     "name": "stdout",
     "output_type": "stream",
     "text": [
      "Extracting data/tars/part_12.tar.gz to data/val\n",
      "Downloading https://s3.amazonaws.com/kinetics/400/val/part_13.tar.gz to data/tars/part_13.tar.gz\n"
     ]
    },
    {
     "name": "stderr",
     "output_type": "stream",
     "text": [
      "100%|██████████████████████| 1568992712/1568992712 [05:43<00:00, 4569817.81it/s]\n"
     ]
    },
    {
     "name": "stdout",
     "output_type": "stream",
     "text": [
      "Extracting data/tars/part_13.tar.gz to data/val\n",
      "Downloading https://s3.amazonaws.com/kinetics/400/val/part_14.tar.gz to data/tars/part_14.tar.gz\n"
     ]
    },
    {
     "name": "stderr",
     "output_type": "stream",
     "text": [
      "100%|██████████████████████| 1470548062/1470548062 [11:01<00:00, 2222106.37it/s]\n"
     ]
    },
    {
     "name": "stdout",
     "output_type": "stream",
     "text": [
      "Extracting data/tars/part_14.tar.gz to data/val\n",
      "Downloading https://s3.amazonaws.com/kinetics/400/val/part_15.tar.gz to data/tars/part_15.tar.gz\n"
     ]
    },
    {
     "name": "stderr",
     "output_type": "stream",
     "text": [
      "100%|██████████████████████| 1535436476/1535436476 [05:34<00:00, 4584211.18it/s]\n"
     ]
    },
    {
     "name": "stdout",
     "output_type": "stream",
     "text": [
      "Extracting data/tars/part_15.tar.gz to data/val\n",
      "Downloading https://s3.amazonaws.com/kinetics/400/val/part_16.tar.gz to data/tars/part_16.tar.gz\n"
     ]
    },
    {
     "name": "stderr",
     "output_type": "stream",
     "text": [
      "100%|██████████████████████| 1505409596/1505409596 [10:07<00:00, 2477190.56it/s]\n"
     ]
    },
    {
     "name": "stdout",
     "output_type": "stream",
     "text": [
      "Extracting data/tars/part_16.tar.gz to data/val\n",
      "Downloading https://s3.amazonaws.com/kinetics/400/val/part_17.tar.gz to data/tars/part_17.tar.gz\n"
     ]
    },
    {
     "name": "stderr",
     "output_type": "stream",
     "text": [
      "100%|██████████████████████| 1441614136/1441614136 [06:08<00:00, 3913233.62it/s]\n"
     ]
    },
    {
     "name": "stdout",
     "output_type": "stream",
     "text": [
      "Extracting data/tars/part_17.tar.gz to data/val\n",
      "Downloading https://s3.amazonaws.com/kinetics/400/val/part_18.tar.gz to data/tars/part_18.tar.gz\n"
     ]
    },
    {
     "name": "stderr",
     "output_type": "stream",
     "text": [
      "100%|██████████████████████| 1510521854/1510521854 [08:17<00:00, 3035540.09it/s]\n"
     ]
    },
    {
     "name": "stdout",
     "output_type": "stream",
     "text": [
      "Extracting data/tars/part_18.tar.gz to data/val\n",
      "Downloading https://s3.amazonaws.com/kinetics/400/val/part_19.tar.gz to data/tars/part_19.tar.gz\n"
     ]
    },
    {
     "name": "stderr",
     "output_type": "stream",
     "text": [
      "100%|██████████████████████| 1362588801/1362588801 [05:06<00:00, 4441564.33it/s]\n"
     ]
    },
    {
     "name": "stdout",
     "output_type": "stream",
     "text": [
      "Extracting data/tars/part_19.tar.gz to data/val\n",
      "Elapsed time for downloading in mins  517.0770760138829\n",
      "Downloading https://s3.amazonaws.com/kinetics/400/annotations/val.csv to data/annotations/val.csv\n"
     ]
    },
    {
     "name": "stderr",
     "output_type": "stream",
     "text": [
      "100%|███████████████████████████████| 810935/810935 [00:01<00:00, 641770.50it/s]\n"
     ]
    },
    {
     "name": "stdout",
     "output_type": "stream",
     "text": [
      "Elapsed time for processing in mins  0.05893349250157674\n",
      "Elapsed time overall in mins  517.1360095063845\n"
     ]
    },
    {
     "name": "stderr",
     "output_type": "stream",
     "text": [
      "100%|███████████████████████████████████████| 1243/1243 [23:05<00:00,  1.11s/it]\n",
      "/home/yungshun/yungshun-py3/lib/python3.8/site-packages/torchvision/datasets/video_utils.py:219: UserWarning: There aren't enough frames in the current video to get a clip for the given clip length and frames between clips. The video (and potentially others) will be skipped.\n",
      "  warnings.warn(\n"
     ]
    }
   ],
   "source": [
    "NUM_WORKERS = os.cpu_count()\n",
    "\n",
    "# train_data = datasets.Kinetics(\n",
    "#     root=\"data\",\n",
    "#     frames_per_clip=8,\n",
    "#     num_workers = NUM_WORKERS,\n",
    "#     split=\"train\",\n",
    "#     step_between_clips=8,\n",
    "#     download=True,\n",
    "#     transform=torchvision.transforms.ToTensor()\n",
    "# )\n",
    "\n",
    "# Start the timer\n",
    "start_time = timer()\n",
    "\n",
    "val_data = datasets.Kinetics(\n",
    "    root=\"data\",\n",
    "    frames_per_clip=8,\n",
    "    # num_download_workers = NUM_WORKERS,\n",
    "    num_workers = NUM_WORKERS,\n",
    "    # num_workers = 0,\n",
    "    split=\"val\",\n",
    "    # step_between_clips=8,\n",
    "    download=True,\n",
    "    transform=torchvision.transforms.ToTensor()\n",
    ")\n",
    "\n",
    "# End the timer and print out how long it took\n",
    "end_time = timer()"
   ]
  },
  {
   "cell_type": "code",
   "execution_count": 14,
   "id": "4qBoNIN2NKPS",
   "metadata": {
    "id": "4qBoNIN2NKPS"
   },
   "outputs": [
    {
     "name": "stdout",
     "output_type": "stream",
     "text": [
      "Total downloading time for the validation set: 32413.770 seconds\n"
     ]
    }
   ],
   "source": [
    "print(f\"Total downloading time for the validation set: {end_time - start_time:.3f} seconds\")"
   ]
  },
  {
   "cell_type": "code",
   "execution_count": 16,
   "id": "b8955e39",
   "metadata": {},
   "outputs": [
    {
     "name": "stdout",
     "output_type": "stream",
     "text": [
      "Downloading https://s3.amazonaws.com/kinetics/400/val/k400_val_path.txt to data/files/k400_val_path.txt\n"
     ]
    },
    {
     "name": "stderr",
     "output_type": "stream",
     "text": [
      "100%|███████████████████████████████████| 1130/1130 [00:00<00:00, 206751.16it/s]\n"
     ]
    },
    {
     "name": "stdout",
     "output_type": "stream",
     "text": [
      "Downloading https://s3.amazonaws.com/kinetics/400/val/part_7.tar.gz to data/tars/part_7.tar.gz\n",
      "Downloading https://s3.amazonaws.com/kinetics/400/val/part_10.tar.gz to data/tars/part_10.tar.gz\n",
      "Downloading https://s3.amazonaws.com/kinetics/400/val/part_3.tar.gz to data/tars/part_3.tar.gz\n",
      "Downloading https://s3.amazonaws.com/kinetics/400/val/part_6.tar.gz to data/tars/part_6.tar.gz\n",
      "Downloading https://s3.amazonaws.com/kinetics/400/val/part_4.tar.gz to data/tars/part_4.tar.gz\n",
      "Downloading https://s3.amazonaws.com/kinetics/400/val/part_2.tar.gz to data/tars/part_2.tar.gz\n",
      "Downloading https://s3.amazonaws.com/kinetics/400/val/part_0.tar.gz to data/tars/part_0.tar.gz\n",
      "Downloading https://s3.amazonaws.com/kinetics/400/val/part_8.tar.gz to data/tars/part_8.tar.gz\n",
      "Downloading https://s3.amazonaws.com/kinetics/400/val/part_1.tar.gz to data/tars/part_1.tar.gz\n",
      "Downloading https://s3.amazonaws.com/kinetics/400/val/part_5.tar.gz to data/tars/part_5.tar.gz\n",
      "Downloading https://s3.amazonaws.com/kinetics/400/val/part_9.tar.gz to data/tars/part_9.tar.gz\n",
      "Downloading https://s3.amazonaws.com/kinetics/400/val/part_11.tar.gz to data/tars/part_11.tar.gz\n"
     ]
    },
    {
     "name": "stderr",
     "output_type": "stream",
     "text": [
      "100%|██████████████████████| 1475265722/1475265722 [22:56<00:00, 1071426.04it/s]\n"
     ]
    },
    {
     "name": "stdout",
     "output_type": "stream",
     "text": [
      "Extracting data/tars/part_10.tar.gz to data/val\n"
     ]
    },
    {
     "name": "stderr",
     "output_type": "stream",
     "text": [
      " 57%|█████████████          | 835682304/1466433224 [23:05<09:42, 1083402.23it/s]"
     ]
    },
    {
     "name": "stdout",
     "output_type": "stream",
     "text": [
      "Downloading https://s3.amazonaws.com/kinetics/400/val/part_12.tar.gz to data/tars/part_12.tar.gz\n"
     ]
    },
    {
     "name": "stderr",
     "output_type": "stream",
     "text": [
      "100%|███████████████████████| 1564443902/1564443902 [26:08<00:00, 997439.42it/s]\n"
     ]
    },
    {
     "name": "stdout",
     "output_type": "stream",
     "text": [
      "Extracting data/tars/part_2.tar.gz to data/val\n"
     ]
    },
    {
     "name": "stderr",
     "output_type": "stream",
     "text": [
      " 62%|██████████████▎        | 939032576/1502494589 [26:13<1:37:48, 96018.66it/s]"
     ]
    },
    {
     "name": "stdout",
     "output_type": "stream",
     "text": [
      "Downloading https://s3.amazonaws.com/kinetics/400/val/part_13.tar.gz to data/tars/part_13.tar.gz\n"
     ]
    },
    {
     "name": "stderr",
     "output_type": "stream",
     "text": [
      "100%|███████████████████████| 1526745719/1526745719 [27:04<00:00, 940077.28it/s]\n"
     ]
    },
    {
     "name": "stdout",
     "output_type": "stream",
     "text": [
      "Extracting data/tars/part_5.tar.gz to data/val\n"
     ]
    },
    {
     "name": "stderr",
     "output_type": "stream",
     "text": [
      "  5%|█▏                     | 80478208/1491709203 [04:02<1:11:50, 327376.14it/s]"
     ]
    },
    {
     "name": "stdout",
     "output_type": "stream",
     "text": [
      "Downloading https://s3.amazonaws.com/kinetics/400/val/part_14.tar.gz to data/tars/part_14.tar.gz\n"
     ]
    },
    {
     "name": "stderr",
     "output_type": "stream",
     "text": [
      "100%|███████████████████████| 1527227822/1527227822 [28:39<00:00, 888015.09it/s]\n"
     ]
    },
    {
     "name": "stdout",
     "output_type": "stream",
     "text": [
      "Extracting data/tars/part_9.tar.gz to data/val\n"
     ]
    },
    {
     "name": "stderr",
     "output_type": "stream",
     "text": [
      "  2%|▌                      | 32505856/1470548062 [01:35<1:25:27, 280442.89it/s]"
     ]
    },
    {
     "name": "stdout",
     "output_type": "stream",
     "text": [
      "Downloading https://s3.amazonaws.com/kinetics/400/val/part_15.tar.gz to data/tars/part_15.tar.gz\n"
     ]
    },
    {
     "name": "stderr",
     "output_type": "stream",
     "text": [
      "100%|███████████████████████| 1577976961/1577976961 [28:51<00:00, 911456.44it/s]\n",
      " 74%|█████████████████▏     | 1099300864/1476180406 [28:51<15:49, 396794.73it/s]"
     ]
    },
    {
     "name": "stdout",
     "output_type": "stream",
     "text": [
      "Extracting data/tars/part_1.tar.gz to data/val\n"
     ]
    },
    {
     "name": "stderr",
     "output_type": "stream",
     "text": [
      " 93%|█████████████████████▎ | 1471643648/1584117306 [28:56<01:59, 938983.56it/s]"
     ]
    },
    {
     "name": "stdout",
     "output_type": "stream",
     "text": [
      "Downloading https://s3.amazonaws.com/kinetics/400/val/part_16.tar.gz to data/tars/part_16.tar.gz"
     ]
    },
    {
     "name": "stderr",
     "output_type": "stream",
     "text": [
      "\r",
      " 72%|███████████████▉      | 1160085504/1602310844 [28:56<06:56, 1061554.25it/s]"
     ]
    },
    {
     "name": "stdout",
     "output_type": "stream",
     "text": [
      "\n"
     ]
    },
    {
     "name": "stderr",
     "output_type": "stream",
     "text": [
      "100%|███████████████████████| 1617834308/1617834308 [29:38<00:00, 909631.98it/s]\n"
     ]
    },
    {
     "name": "stdout",
     "output_type": "stream",
     "text": [
      "Extracting data/tars/part_8.tar.gz to data/val"
     ]
    },
    {
     "name": "stderr",
     "output_type": "stream",
     "text": [
      "\r",
      "  8%|█▊                    | 118784000/1491709203 [06:31<1:05:14, 350758.68it/s]"
     ]
    },
    {
     "name": "stdout",
     "output_type": "stream",
     "text": [
      "\n"
     ]
    },
    {
     "name": "stderr",
     "output_type": "stream",
     "text": [
      "100%|███████████████████████| 1546665596/1546665596 [29:39<00:00, 869154.11it/s]\n"
     ]
    },
    {
     "name": "stdout",
     "output_type": "stream",
     "text": [
      "Extracting data/tars/part_0.tar.gz to data/val\n"
     ]
    },
    {
     "name": "stderr",
     "output_type": "stream",
     "text": [
      "  3%|▋                      | 44859392/1470548062 [02:39<1:43:38, 229249.27it/s]"
     ]
    },
    {
     "name": "stdout",
     "output_type": "stream",
     "text": [
      "Downloading https://s3.amazonaws.com/kinetics/400/val/part_18.tar.gz to data/tars/part_18.tar.gz\n"
     ]
    },
    {
     "name": "stderr",
     "output_type": "stream",
     "text": [
      " 75%|█████████████████▎     | 1103101952/1466433224 [29:49<08:40, 697814.12it/s]"
     ]
    },
    {
     "name": "stdout",
     "output_type": "stream",
     "text": [
      "Downloading https://s3.amazonaws.com/kinetics/400/val/part_17.tar.gz to data/tars/part_17.tar.gz\n"
     ]
    },
    {
     "name": "stderr",
     "output_type": "stream",
     "text": [
      "100%|███████████████████████| 1584117306/1584117306 [30:05<00:00, 877158.21it/s]\n"
     ]
    },
    {
     "name": "stdout",
     "output_type": "stream",
     "text": [
      "Extracting data/tars/part_7.tar.gz to data/val\n"
     ]
    },
    {
     "name": "stderr",
     "output_type": "stream",
     "text": [
      " 80%|█████████████████▌    | 1279066112/1602310844 [30:17<03:34, 1509785.58it/s]"
     ]
    },
    {
     "name": "stdout",
     "output_type": "stream",
     "text": [
      "Downloading https://s3.amazonaws.com/kinetics/400/val/part_19.tar.gz to data/tars/part_19.tar.gz\n"
     ]
    },
    {
     "name": "stderr",
     "output_type": "stream",
     "text": [
      "100%|███████████████████████| 1602310844/1602310844 [32:56<00:00, 810777.23it/s]\n"
     ]
    },
    {
     "name": "stdout",
     "output_type": "stream",
     "text": [
      "Extracting data/tars/part_4.tar.gz to data/val\n"
     ]
    },
    {
     "name": "stderr",
     "output_type": "stream",
     "text": [
      "100%|███████████████████████| 1476180406/1476180406 [33:36<00:00, 731979.75it/s]\n"
     ]
    },
    {
     "name": "stdout",
     "output_type": "stream",
     "text": [
      "Extracting data/tars/part_3.tar.gz to data/val\n"
     ]
    },
    {
     "name": "stderr",
     "output_type": "stream",
     "text": [
      "100%|███████████████████████| 1466433224/1466433224 [34:08<00:00, 715776.23it/s]\n"
     ]
    },
    {
     "name": "stdout",
     "output_type": "stream",
     "text": [
      "Extracting data/tars/part_6.tar.gz to data/val\n"
     ]
    },
    {
     "name": "stderr",
     "output_type": "stream",
     "text": [
      "100%|███████████████████████| 1502494589/1502494589 [34:27<00:00, 726695.76it/s]\n"
     ]
    },
    {
     "name": "stdout",
     "output_type": "stream",
     "text": [
      "Extracting data/tars/part_11.tar.gz to data/val\n"
     ]
    },
    {
     "name": "stderr",
     "output_type": "stream",
     "text": [
      " 80%|██████████████████▎    | 1169620992/1470548062 [47:48<12:18, 407727.71it/s]\n"
     ]
    },
    {
     "name": "stdout",
     "output_type": "stream",
     "text": [
      "Failed download. Trying https -> http instead. Downloading http://s3.amazonaws.com/kinetics/400/val/part_14.tar.gz to data/tars/part_14.tar.gz\n"
     ]
    },
    {
     "name": "stderr",
     "output_type": "stream",
     "text": [
      "100%|██████████████████████| 1470548062/1470548062 [05:01<00:00, 4870585.82it/s]\n",
      " 82%|██████████████████▊    | 1228996608/1505409596 [51:04<14:59, 307439.14it/s]"
     ]
    },
    {
     "name": "stdout",
     "output_type": "stream",
     "text": [
      "Extracting data/tars/part_14.tar.gz to data/val\n"
     ]
    },
    {
     "name": "stderr",
     "output_type": "stream",
     "text": [
      "100%|███████████████████████| 1362588801/1362588801 [50:52<00:00, 446359.59it/s]\n"
     ]
    },
    {
     "name": "stdout",
     "output_type": "stream",
     "text": [
      "Extracting data/tars/part_19.tar.gz to data/val\n"
     ]
    },
    {
     "name": "stderr",
     "output_type": "stream",
     "text": [
      "100%|███████████████████████| 1491709203/1491709203 [58:07<00:00, 427739.21it/s]\n"
     ]
    },
    {
     "name": "stdout",
     "output_type": "stream",
     "text": [
      "Extracting data/tars/part_12.tar.gz to data/val\n"
     ]
    },
    {
     "name": "stderr",
     "output_type": "stream",
     "text": [
      "100%|███████████████████████| 1441614136/1441614136 [51:46<00:00, 464056.74it/s]\n"
     ]
    },
    {
     "name": "stdout",
     "output_type": "stream",
     "text": [
      "Extracting data/tars/part_17.tar.gz to data/val\n"
     ]
    },
    {
     "name": "stderr",
     "output_type": "stream",
     "text": [
      "100%|███████████████████████| 1510521854/1510521854 [55:05<00:00, 456937.86it/s]\n"
     ]
    },
    {
     "name": "stdout",
     "output_type": "stream",
     "text": [
      "Extracting data/tars/part_18.tar.gz to data/val"
     ]
    },
    {
     "name": "stderr",
     "output_type": "stream",
     "text": [
      "\r",
      " 96%|█████████████████████▉ | 1499725824/1568992712 [58:42<01:11, 966969.52it/s]"
     ]
    },
    {
     "name": "stdout",
     "output_type": "stream",
     "text": [
      "\n"
     ]
    },
    {
     "name": "stderr",
     "output_type": "stream",
     "text": [
      "100%|███████████████████████| 1535436476/1535436476 [56:50<00:00, 450263.36it/s]\n"
     ]
    },
    {
     "name": "stdout",
     "output_type": "stream",
     "text": [
      "Extracting data/tars/part_15.tar.gz to data/val\n"
     ]
    },
    {
     "name": "stderr",
     "output_type": "stream",
     "text": [
      "100%|█████████████████████| 1568992712/1568992712 [1:00:22<00:00, 433156.61it/s]\n"
     ]
    },
    {
     "name": "stdout",
     "output_type": "stream",
     "text": [
      "Extracting data/tars/part_13.tar.gz to data/val\n"
     ]
    },
    {
     "name": "stderr",
     "output_type": "stream",
     "text": [
      "100%|███████████████████████| 1505409596/1505409596 [57:43<00:00, 434693.44it/s]\n"
     ]
    },
    {
     "name": "stdout",
     "output_type": "stream",
     "text": [
      "Extracting data/tars/part_16.tar.gz to data/val\n",
      "Elapsed time for downloading in mins  86.8097452878952\n",
      "Downloading https://s3.amazonaws.com/kinetics/400/annotations/val.csv to data/annotations/val.csv\n"
     ]
    },
    {
     "name": "stderr",
     "output_type": "stream",
     "text": [
      "100%|███████████████████████████████| 810935/810935 [00:01<00:00, 753355.78it/s]\n"
     ]
    },
    {
     "name": "stdout",
     "output_type": "stream",
     "text": [
      "Elapsed time for processing in mins  0.05719646215438843\n",
      "Elapsed time overall in mins  86.86694175004959\n"
     ]
    },
    {
     "name": "stderr",
     "output_type": "stream",
     "text": [
      "100%|███████████████████████████████████████| 1243/1243 [22:59<00:00,  1.11s/it]\n"
     ]
    }
   ],
   "source": [
    "NUM_WORKERS = os.cpu_count()\n",
    "\n",
    "# train_data = datasets.Kinetics(\n",
    "#     root=\"data\",\n",
    "#     frames_per_clip=8,\n",
    "#     num_workers = NUM_WORKERS,\n",
    "#     split=\"train\",\n",
    "#     step_between_clips=8,\n",
    "#     download=True,\n",
    "#     transform=torchvision.transforms.ToTensor()\n",
    "# )\n",
    "\n",
    "# Start the timer\n",
    "start_time = timer()\n",
    "\n",
    "val_data = datasets.Kinetics(\n",
    "    root=\"data\",\n",
    "    frames_per_clip=8,\n",
    "    num_download_workers = NUM_WORKERS,\n",
    "    num_workers = NUM_WORKERS,\n",
    "\n",
    "    # num_workers = 0,\n",
    "    split=\"val\",\n",
    "    # step_between_clips=8,\n",
    "    download=True,\n",
    "    transform=torchvision.transforms.ToTensor()\n",
    ")\n",
    "\n",
    "# End the timer and print out how long it took\n",
    "end_time = timer()"
   ]
  },
  {
   "cell_type": "code",
   "execution_count": 17,
   "id": "267fa9ea",
   "metadata": {},
   "outputs": [
    {
     "name": "stdout",
     "output_type": "stream",
     "text": [
      "Total downloading time for the validation set: 6592.460 seconds\n"
     ]
    }
   ],
   "source": [
    "print(f\"Total downloading time for the validation set: {end_time - start_time:.3f} seconds\")"
   ]
  },
  {
   "cell_type": "code",
   "execution_count": null,
   "id": "a388275c",
   "metadata": {},
   "outputs": [],
   "source": []
  }
 ],
 "metadata": {
  "colab": {
   "provenance": []
  },
  "kernelspec": {
   "display_name": "Python 3 (ipykernel)",
   "language": "python",
   "name": "python3"
  },
  "language_info": {
   "codemirror_mode": {
    "name": "ipython",
    "version": 3
   },
   "file_extension": ".py",
   "mimetype": "text/x-python",
   "name": "python",
   "nbconvert_exporter": "python",
   "pygments_lexer": "ipython3",
   "version": "3.8.8"
  }
 },
 "nbformat": 4,
 "nbformat_minor": 5
}
