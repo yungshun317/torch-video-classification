{
  "cells": [
    {
      "cell_type": "code",
      "source": [
        "# `torchvision` requires\n",
        "!pip install av"
      ],
      "metadata": {
        "colab": {
          "base_uri": "https://localhost:8080/"
        },
        "id": "oPzVlcRRt71L",
        "outputId": "82c1dbab-b725-41e2-8c10-2b5ee94df8c8"
      },
      "id": "oPzVlcRRt71L",
      "execution_count": 1,
      "outputs": [
        {
          "output_type": "stream",
          "name": "stdout",
          "text": [
            "Collecting av\n",
            "  Downloading av-12.0.0-cp310-cp310-manylinux_2_17_x86_64.manylinux2014_x86_64.whl (33.8 MB)\n",
            "\u001b[2K     \u001b[90m━━━━━━━━━━━━━━━━━━━━━━━━━━━━━━━━━━━━━━━━\u001b[0m \u001b[32m33.8/33.8 MB\u001b[0m \u001b[31m16.5 MB/s\u001b[0m eta \u001b[36m0:00:00\u001b[0m\n",
            "\u001b[?25hInstalling collected packages: av\n",
            "Successfully installed av-12.0.0\n"
          ]
        }
      ]
    },
    {
      "cell_type": "code",
      "execution_count": 2,
      "id": "7ea396a6",
      "metadata": {
        "id": "7ea396a6"
      },
      "outputs": [],
      "source": [
        "# Import PyTorch\n",
        "import torch\n",
        "from torch import nn\n",
        "\n",
        "# Import `torchvision`\n",
        "import torchvision\n",
        "from torchvision import datasets\n",
        "\n",
        "import os\n",
        "from timeit import default_timer as timer"
      ]
    },
    {
      "cell_type": "code",
      "source": [
        "print (torch.__version__)\n",
        "print (torchvision.__version__)"
      ],
      "metadata": {
        "colab": {
          "base_uri": "https://localhost:8080/"
        },
        "id": "nkAtOGhYeNws",
        "outputId": "59a9c83b-81a0-47c1-d752-b94a6010a6e2"
      },
      "id": "nkAtOGhYeNws",
      "execution_count": 5,
      "outputs": [
        {
          "output_type": "stream",
          "name": "stdout",
          "text": [
            "2.2.1+cu121\n",
            "0.17.1+cu121\n"
          ]
        }
      ]
    },
    {
      "cell_type": "code",
      "source": [
        "!ffmpeg -version"
      ],
      "metadata": {
        "colab": {
          "base_uri": "https://localhost:8080/"
        },
        "id": "53L_zyD6fBGV",
        "outputId": "25c2a4e4-4043-4fea-d0d4-16bf2fe3bd24"
      },
      "id": "53L_zyD6fBGV",
      "execution_count": 6,
      "outputs": [
        {
          "output_type": "stream",
          "name": "stdout",
          "text": [
            "ffmpeg version 4.4.2-0ubuntu0.22.04.1 Copyright (c) 2000-2021 the FFmpeg developers\n",
            "built with gcc 11 (Ubuntu 11.2.0-19ubuntu1)\n",
            "configuration: --prefix=/usr --extra-version=0ubuntu0.22.04.1 --toolchain=hardened --libdir=/usr/lib/x86_64-linux-gnu --incdir=/usr/include/x86_64-linux-gnu --arch=amd64 --enable-gpl --disable-stripping --enable-gnutls --enable-ladspa --enable-libaom --enable-libass --enable-libbluray --enable-libbs2b --enable-libcaca --enable-libcdio --enable-libcodec2 --enable-libdav1d --enable-libflite --enable-libfontconfig --enable-libfreetype --enable-libfribidi --enable-libgme --enable-libgsm --enable-libjack --enable-libmp3lame --enable-libmysofa --enable-libopenjpeg --enable-libopenmpt --enable-libopus --enable-libpulse --enable-librabbitmq --enable-librubberband --enable-libshine --enable-libsnappy --enable-libsoxr --enable-libspeex --enable-libsrt --enable-libssh --enable-libtheora --enable-libtwolame --enable-libvidstab --enable-libvorbis --enable-libvpx --enable-libwebp --enable-libx265 --enable-libxml2 --enable-libxvid --enable-libzimg --enable-libzmq --enable-libzvbi --enable-lv2 --enable-omx --enable-openal --enable-opencl --enable-opengl --enable-sdl2 --enable-pocketsphinx --enable-librsvg --enable-libmfx --enable-libdc1394 --enable-libdrm --enable-libiec61883 --enable-chromaprint --enable-frei0r --enable-libx264 --enable-shared\n",
            "libavutil      56. 70.100 / 56. 70.100\n",
            "libavcodec     58.134.100 / 58.134.100\n",
            "libavformat    58. 76.100 / 58. 76.100\n",
            "libavdevice    58. 13.100 / 58. 13.100\n",
            "libavfilter     7.110.100 /  7.110.100\n",
            "libswscale      5.  9.100 /  5.  9.100\n",
            "libswresample   3.  9.100 /  3.  9.100\n",
            "libpostproc    55.  9.100 / 55.  9.100\n"
          ]
        }
      ]
    },
    {
      "cell_type": "markdown",
      "id": "0e22501e",
      "metadata": {
        "id": "0e22501e"
      },
      "source": [
        "## Kinetics"
      ]
    },
    {
      "cell_type": "code",
      "source": [
        "# !rm -r data"
      ],
      "metadata": {
        "colab": {
          "base_uri": "https://localhost:8080/"
        },
        "id": "l-zNIUjlT-Uo",
        "outputId": "e5f9098c-af72-46b6-e948-35e1310b4247"
      },
      "id": "l-zNIUjlT-Uo",
      "execution_count": 3,
      "outputs": [
        {
          "output_type": "stream",
          "name": "stdout",
          "text": [
            "rm: cannot remove 'data': No such file or directory\n"
          ]
        }
      ]
    },
    {
      "cell_type": "code",
      "execution_count": null,
      "id": "4c295f72",
      "metadata": {
        "colab": {
          "base_uri": "https://localhost:8080/"
        },
        "id": "4c295f72",
        "outputId": "253574fe-0fc8-40cf-aef4-05c794d86391"
      },
      "outputs": [
        {
          "output_type": "stream",
          "name": "stderr",
          "text": [
            " 37%|███▋      | 455/1243 [1:03:28<11:39:51, 53.29s/it]"
          ]
        }
      ],
      "source": [
        "NUM_WORKERS = os.cpu_count()\n",
        "\n",
        "# train_data = datasets.Kinetics(\n",
        "#     root=\"data\",\n",
        "#     frames_per_clip=8,\n",
        "#     num_workers = NUM_WORKERS,\n",
        "#     split=\"train\",\n",
        "#     step_between_clips=8,\n",
        "#     download=True,\n",
        "#     transform=torchvision.transforms.ToTensor()\n",
        "# )\n",
        "\n",
        "# Start the timer\n",
        "start_time = timer()\n",
        "\n",
        "val_data = datasets.Kinetics(\n",
        "    root=\"data\",\n",
        "    frames_per_clip=8,\n",
        "    # num_workers = NUM_WORKERS,\n",
        "    num_workers = 0,\n",
        "    split=\"val\",\n",
        "    # step_between_clips=8,\n",
        "    download=False,\n",
        "    # transform=torchvision.transforms.ToTensor()\n",
        ")\n",
        "\n",
        "# End the timer and print out how long it took\n",
        "end_time = timer()"
      ]
    },
    {
      "cell_type": "code",
      "source": [
        "print(f\"Total downloading time for the validation set: {end_time - start_time:.3f} seconds\")"
      ],
      "metadata": {
        "id": "4qBoNIN2NKPS"
      },
      "id": "4qBoNIN2NKPS",
      "execution_count": null,
      "outputs": []
    }
  ],
  "metadata": {
    "kernelspec": {
      "display_name": "Python 3",
      "name": "python3"
    },
    "language_info": {
      "codemirror_mode": {
        "name": "ipython",
        "version": 3
      },
      "file_extension": ".py",
      "mimetype": "text/x-python",
      "name": "python",
      "nbconvert_exporter": "python",
      "pygments_lexer": "ipython3",
      "version": "3.8.8"
    },
    "colab": {
      "provenance": []
    }
  },
  "nbformat": 4,
  "nbformat_minor": 5
}